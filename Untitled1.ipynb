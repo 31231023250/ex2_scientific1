{
  "nbformat": 4,
  "nbformat_minor": 0,
  "metadata": {
    "colab": {
      "provenance": [],
      "toc_visible": true,
      "authorship_tag": "ABX9TyPeRFrzobGtETVFpBKwBkto",
      "include_colab_link": true
    },
    "kernelspec": {
      "name": "python3",
      "display_name": "Python 3"
    },
    "language_info": {
      "name": "python"
    }
  },
  "cells": [
    {
      "cell_type": "markdown",
      "metadata": {
        "id": "view-in-github",
        "colab_type": "text"
      },
      "source": [
        "<a href=\"https://colab.research.google.com/github/31231023250/ex2_scientific1/blob/main/Untitled1.ipynb\" target=\"_parent\"><img src=\"https://colab.research.google.com/assets/colab-badge.svg\" alt=\"Open In Colab\"/></a>"
      ]
    },
    {
      "cell_type": "markdown",
      "source": [
        "\n",
        "\n",
        "```\n",
        "# Định dạng của đoạn này là mã\n",
        "```\n",
        "\n"
      ],
      "metadata": {
        "id": "BXf2zgugoEPS"
      }
    },
    {
      "cell_type": "code",
      "source": [
        "# Future Value\n",
        "amount = 100\n",
        "interest = 10 #10% = 0.01 * 10\n",
        "years = 7\n",
        "future_value = amount * ((1 + (0.01 * interest)) ** years)\n",
        "print(round(future_value, 2))"
      ],
      "metadata": {
        "colab": {
          "base_uri": "https://localhost:8080/"
        },
        "id": "o--0K2p-vwgb",
        "outputId": "f05863e9-f460-4012-fb38-64aa6872df4f"
      },
      "execution_count": 18,
      "outputs": [
        {
          "output_type": "stream",
          "name": "stdout",
          "text": [
            "194.87\n"
          ]
        }
      ]
    },
    {
      "cell_type": "code",
      "source": [
        "# Future Value\n",
        "pv = 100\n",
        "r = 0.1\n",
        "n = 7\n",
        "fv = pv * ((1 + (r)) ** n)\n",
        "print(round(fv, 2))\n"
      ],
      "metadata": {
        "colab": {
          "base_uri": "https://localhost:8080/"
        },
        "id": "PdFjfs-RvqnK",
        "outputId": "608a19e5-6281-4d0e-f77c-b4e1e4dc2cbd"
      },
      "execution_count": 17,
      "outputs": [
        {
          "output_type": "stream",
          "name": "stdout",
          "text": [
            "194.87\n"
          ]
        }
      ]
    },
    {
      "cell_type": "code",
      "source": [
        "# How much is your $100 worth after 7 years?\n",
        "fv = 100 * 1.1 ** 7\n",
        "print('fv = ', round(fv, 2))"
      ],
      "metadata": {
        "colab": {
          "base_uri": "https://localhost:8080/"
        },
        "id": "l37UwF1nvkMK",
        "outputId": "cb525632-ca7c-4826-ab28-2ac0056f2e32"
      },
      "execution_count": 16,
      "outputs": [
        {
          "output_type": "stream",
          "name": "stdout",
          "text": [
            "fv =  194.87\n"
          ]
        }
      ]
    },
    {
      "cell_type": "code",
      "source": [
        "# BMI Calculator cho chiều cao 165cm, cân nặng 57kg\n",
        "\n",
        "height_cm = 165\n",
        "weight_kg = 57\n",
        "\n",
        "height_m = height_cm / 100\n",
        "BMI = weight_kg / (height_m ** 2)\n",
        "\n",
        "print(\"Chiều cao:\", height_cm, \"cm\")\n",
        "print(\"Cân nặng:\", weight_kg, \"kg\")\n",
        "print(\"Chỉ số BMI của bạn là:\", round(BMI, 1))"
      ],
      "metadata": {
        "colab": {
          "base_uri": "https://localhost:8080/"
        },
        "id": "TWHWyoFdu6vK",
        "outputId": "1ab87df1-4ca0-4652-c5d2-4ac051246036"
      },
      "execution_count": 15,
      "outputs": [
        {
          "output_type": "stream",
          "name": "stdout",
          "text": [
            "Chiều cao: 165 cm\n",
            "Cân nặng: 57 kg\n",
            "Chỉ số BMI của bạn là: 20.9\n"
          ]
        }
      ]
    },
    {
      "cell_type": "code",
      "source": [
        "# Python Booleans: True or False\n",
        "print(3 > 2)\n",
        "print(3 == 2)\n",
        "print(3 < 2)"
      ],
      "metadata": {
        "colab": {
          "base_uri": "https://localhost:8080/"
        },
        "id": "iAtqE7Gkuy9J",
        "outputId": "5fbb8ef8-e56b-4797-bd29-179e8ed0e9e1"
      },
      "execution_count": 14,
      "outputs": [
        {
          "output_type": "stream",
          "name": "stdout",
          "text": [
            "True\n",
            "False\n",
            "False\n"
          ]
        }
      ]
    },
    {
      "cell_type": "code",
      "source": [
        "# int\n",
        "x = 2\n",
        "print(x, type(x))\n",
        "\n",
        "# float\n",
        "y = 3.4\n",
        "print(y, type(y))\n",
        "\n",
        "# complex\n",
        "z = 7j + 3.5\n",
        "print(z, type(z))\n"
      ],
      "metadata": {
        "colab": {
          "base_uri": "https://localhost:8080/"
        },
        "id": "vwFm_GblqSuD",
        "outputId": "baf04e09-7394-4fdc-c49e-c70cbf363645"
      },
      "execution_count": 13,
      "outputs": [
        {
          "output_type": "stream",
          "name": "stdout",
          "text": [
            "2 <class 'int'>\n",
            "3.4 <class 'float'>\n",
            "(3.5+7j) <class 'complex'>\n"
          ]
        }
      ]
    },
    {
      "cell_type": "code",
      "source": [
        "x = str(3)      # số -> chuỗi\n",
        "y = int(4.3)    # số thực -> số nguyên\n",
        "z = float(3)    # số nguyên -> số thực\n",
        "\n",
        "print(x, type(x))   # \"3\" <class 'str'>\n",
        "print(y, type(y))   # 4 <class 'int'>\n",
        "print(z, type(z))   # 3.0 <class 'float'>"
      ],
      "metadata": {
        "colab": {
          "base_uri": "https://localhost:8080/"
        },
        "id": "5ax2HmGPsyVU",
        "outputId": "7e513fa0-b468-4706-c087-e3b3f42a75b6"
      },
      "execution_count": 12,
      "outputs": [
        {
          "output_type": "stream",
          "name": "stdout",
          "text": [
            "3 <class 'str'>\n",
            "4 <class 'int'>\n",
            "3.0 <class 'float'>\n"
          ]
        }
      ]
    },
    {
      "cell_type": "code",
      "source": [
        "# list\n",
        "x = ['apple', 'banana', 'cherry']\n",
        "x.append('hello')\n",
        "print(x, type(x), x[1:3])\n",
        "\n",
        "# tuple\n",
        "x = ('apple', 'banana', 'cherry')  # immutable\n",
        "# x.append('hello')  # không được\n",
        "x = ('apple', 'banana', 'cherry', 'hello')\n",
        "print(x, type(x), x[1:3])\n",
        "\n",
        "# dictionary\n",
        "x = {'name': 'Tome', 'age': 20}  # dictionary\n",
        "print(x, type(x), x['name'], x['age'])\n",
        "\n",
        "# set\n",
        "x = {'apple', 'banana', 'cherry'}  # set\n",
        "x.add('hello')\n",
        "print(x, type(x))\n",
        "\n",
        "# frozenset\n",
        "x = frozenset({'apple', 'banana', 'cherry'})  # frozenset\n",
        "print(x, type(x))\n"
      ],
      "metadata": {
        "colab": {
          "base_uri": "https://localhost:8080/"
        },
        "id": "uWhasvQurSkK",
        "outputId": "779661cd-82fc-41e0-88a9-433c1818187e"
      },
      "execution_count": 11,
      "outputs": [
        {
          "output_type": "stream",
          "name": "stdout",
          "text": [
            "['apple', 'banana', 'cherry', 'hello'] <class 'list'> ['banana', 'cherry']\n",
            "('apple', 'banana', 'cherry', 'hello') <class 'tuple'> ('banana', 'cherry')\n",
            "{'name': 'Tome', 'age': 20} <class 'dict'> Tome 20\n",
            "{'hello', 'apple', 'cherry', 'banana'} <class 'set'>\n",
            "frozenset({'apple', 'cherry', 'banana'}) <class 'frozenset'>\n"
          ]
        }
      ]
    },
    {
      "cell_type": "code",
      "source": [
        "x = 'Hello, World'\n",
        "print(x, type(x))\n",
        "\n",
        "x = 2\n",
        "print(x, type(x))\n",
        "\n",
        "x = 2.5\n",
        "print(x, type(x))\n",
        "\n",
        "x = 7j\n",
        "print(x, type(x))\n"
      ],
      "metadata": {
        "colab": {
          "base_uri": "https://localhost:8080/"
        },
        "id": "H15vJBGTqh-z",
        "outputId": "3f3874b1-e5a1-4aab-e39d-5edd2aed24cb"
      },
      "execution_count": 8,
      "outputs": [
        {
          "output_type": "stream",
          "name": "stdout",
          "text": [
            "Hello, World <class 'str'>\n",
            "2 <class 'int'>\n",
            "2.5 <class 'float'>\n",
            "7j <class 'complex'>\n"
          ]
        }
      ]
    },
    {
      "cell_type": "code",
      "source": [
        "x = 2\n",
        "y = x + 1\n",
        "print(x, y)\n"
      ],
      "metadata": {
        "colab": {
          "base_uri": "https://localhost:8080/"
        },
        "id": "ycQX5XQ3qgxK",
        "outputId": "fb928120-9418-412c-c6b2-85a29298c2e9"
      },
      "execution_count": 7,
      "outputs": [
        {
          "output_type": "stream",
          "name": "stdout",
          "text": [
            "2 3\n"
          ]
        }
      ]
    },
    {
      "cell_type": "code",
      "source": [
        "# Python variables\n",
        "\n",
        "x = 2\n",
        "price = 2.5\n",
        "word = 'Hello'\n",
        "\n",
        "# Thử nhiều cách viết chuỗi\n",
        "word = 'Hello'\n",
        "word = \"Hello\"\n",
        "word = '''Hello'''\n",
        "\n",
        "# In ra giá trị và kiểu dữ liệu\n",
        "print(x, price, word)\n",
        "print(f\"x = {x, type(x)}, price={price, type(price)}, word={word, type(word)}\")\n"
      ],
      "metadata": {
        "colab": {
          "base_uri": "https://localhost:8080/"
        },
        "id": "M8_MjoRgpzYd",
        "outputId": "4e18ade0-b4ec-4a7a-b118-d0126e2c28a5"
      },
      "execution_count": 6,
      "outputs": [
        {
          "output_type": "stream",
          "name": "stdout",
          "text": [
            "2 2.5 Hello\n",
            "x = (2, <class 'int'>), price=(2.5, <class 'float'>), word=('Hello', <class 'str'>)\n"
          ]
        }
      ]
    },
    {
      "cell_type": "code",
      "source": [
        "score = 80\n",
        "if score >= 60:\n",
        "    print(\"Pass\")\n",
        "else:\n",
        "    print(\"Fail\")\n"
      ],
      "metadata": {
        "colab": {
          "base_uri": "https://localhost:8080/"
        },
        "id": "T_hPduMFobc8",
        "outputId": "7cfb44be-ae8f-46cb-f826-66c3f3420b62"
      },
      "execution_count": 4,
      "outputs": [
        {
          "output_type": "stream",
          "name": "stdout",
          "text": [
            "Pass\n"
          ]
        }
      ]
    },
    {
      "cell_type": "code",
      "source": [
        "pv = 100\n",
        "r = 0.1\n",
        "n = 7\n",
        "\n",
        "fv = pv * ((1 + r) ** n)\n",
        "print(round(fv, 2))"
      ],
      "metadata": {
        "colab": {
          "base_uri": "https://localhost:8080/"
        },
        "id": "pTboZ3NnoPDO",
        "outputId": "949484be-3da2-46c5-a8b1-ad1636775d58"
      },
      "execution_count": 2,
      "outputs": [
        {
          "output_type": "stream",
          "name": "stdout",
          "text": [
            "194.87\n"
          ]
        }
      ]
    },
    {
      "cell_type": "code",
      "execution_count": 1,
      "metadata": {
        "colab": {
          "base_uri": "https://localhost:8080/"
        },
        "id": "37YIOa4unqis",
        "outputId": "421942ba-4561-47b9-8ff7-635a3639d90e"
      },
      "outputs": [
        {
          "output_type": "stream",
          "name": "stdout",
          "text": [
            "Hello, World!\n"
          ]
        }
      ],
      "source": [
        "print(\"Hello, World!\")\n"
      ]
    }
  ]
}